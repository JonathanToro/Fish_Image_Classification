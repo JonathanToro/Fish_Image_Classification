{
 "cells": [
  {
   "cell_type": "code",
   "execution_count": 1,
   "metadata": {
    "collapsed": false
   },
   "outputs": [
    {
     "data": {
      "text/html": [
       "<style>.container { width:100% !important; }</style>"
      ],
      "text/plain": [
       "<IPython.core.display.HTML object>"
      ]
     },
     "metadata": {},
     "output_type": "display_data"
    }
   ],
   "source": [
    "from IPython.core.display import display, HTML\n",
    "display(HTML(\"<style>.container { width:100% !important; }</style>\"))"
   ]
  },
  {
   "cell_type": "code",
   "execution_count": 2,
   "metadata": {
    "collapsed": false
   },
   "outputs": [
    {
     "name": "stderr",
     "output_type": "stream",
     "text": [
      "Using TensorFlow backend.\n"
     ]
    }
   ],
   "source": [
    "from keras.models import load_model\n",
    "import os\n",
    "from keras.preprocessing.image import ImageDataGenerator\n",
    "import numpy as np\n",
    "from keras.applications.inception_v3 import InceptionV3\n",
    "import os\n",
    "from keras.layers import Flatten, Dense, AveragePooling2D\n",
    "from keras.models import Model\n",
    "from keras.optimizers import RMSprop, SGD\n",
    "from keras.callbacks import ModelCheckpoint\n",
    "from keras.preprocessing.image import ImageDataGenerator\n",
    "\n",
    "\n",
    "from keras.layers import merge\n",
    "from keras.layers.core import Lambda\n",
    "from keras.models import Model\n",
    "import tensorflow as tf\n",
    "\n",
    "import make_parallel"
   ]
  },
  {
   "cell_type": "code",
   "execution_count": 4,
   "metadata": {
    "collapsed": true
   },
   "outputs": [],
   "source": [
    "os.environ[\"CUDA_VISIBLE_DEVICES\"] = \"0\"\n",
    "\n",
    "img_width = 299\n",
    "img_height = 299\n",
    "batch_size = 32\n",
    "nbr_test_samples = 1000\n",
    "nbr_augmentation = 5\n",
    "\n",
    "FishNames = ['ALB', 'BET', 'DOL', 'LAG', 'NoF', 'OTHER', 'SHARK', 'YFT']\n",
    "\n",
    "root_path = '/home/ubuntu/jupyter/Fish/Final_Project/'\n",
    "\n",
    "weights_path = os.path.join(root_path, 'inception_weights.h5')\n",
    "\n",
    "test_data_dir = os.path.join(root_path, 'test_stg1/')\n",
    "\n",
    "# test data generator for prediction\n",
    "test_datagen = ImageDataGenerator(\n",
    "        rescale=1./255,\n",
    "        shear_range=0.1,\n",
    "        zoom_range=0.1,\n",
    "        width_shift_range=0.1,\n",
    "        height_shift_range=0.1,\n",
    "        horizontal_flip=True)"
   ]
  },
  {
   "cell_type": "code",
   "execution_count": 5,
   "metadata": {
    "collapsed": false
   },
   "outputs": [
    {
     "name": "stdout",
     "output_type": "stream",
     "text": [
      "Loading InceptionV3 Weights ...\n"
     ]
    },
    {
     "name": "stderr",
     "output_type": "stream",
     "text": [
      "/usr/local/lib/python2.7/site-packages/keras/applications/inception_v3.py:291: UserWarning: You are using the TensorFlow backend, yet you are using the Theano image dimension ordering convention (`image_dim_ordering=\"th\"`). For best performance, set `image_dim_ordering=\"tf\"` in your Keras config at ~/.keras/keras.json.\n",
      "  warnings.warn('You are using the TensorFlow backend, yet you '\n"
     ]
    },
    {
     "name": "stdout",
     "output_type": "stream",
     "text": [
      "Adding Average Pooling Layer and Softmax Output Layer ...\n"
     ]
    }
   ],
   "source": [
    "learning_rate = 0.0001\n",
    "img_width = 299\n",
    "img_height = 299\n",
    "nbr_train_samples = 3016\n",
    "nbr_validation_samples = 756\n",
    "nbr_epochs = 25\n",
    "batch_size = 64\n",
    "\n",
    "train_data_dir = '/home/ubuntu/jupyter/Fish/Final_Project/train2/train_split'\n",
    "val_data_dir = '/home/ubuntu/jupyter/Fish/Final_Project/train2/val_split'\n",
    "\n",
    "FishNames = ['ALB', 'BET', 'DOL', 'LAG', 'NoF', 'OTHER', 'SHARK', 'YFT']\n",
    "\n",
    "print('Loading InceptionV3 Weights ...')\n",
    "InceptionV3_notop = InceptionV3(include_top=False, weights='imagenet', input_tensor=None, input_shape = (3, 299,299))\n",
    "# Note that the preprocessing of InceptionV3 is:\n",
    "# (x / 255 - 0.5) x 2\n",
    "\n",
    "print('Adding Average Pooling Layer and Softmax Output Layer ...')\n",
    "output = InceptionV3_notop.get_layer(index = -1).output  # Shape: (8, 8, 2048)\n",
    "output = AveragePooling2D((8, 8), strides=(8, 8), name='avg_pool')(output)\n",
    "output = Flatten(name='flatten')(output)\n",
    "output = Dense(8, activation='softmax', name='predictions')(output)\n",
    "\n",
    "InceptionV3_model = Model(InceptionV3_notop.input, output)\n",
    "#InceptionV3_model.summary()\n",
    "\n",
    "InceptionV3_model = make_parallel(InceptionV3_model,4)\n",
    "optimizer = SGD(lr = learning_rate, momentum = 0.9, decay = 0.0, nesterov = True)\n",
    "InceptionV3_model.compile(loss='categorical_crossentropy', optimizer = optimizer, metrics = ['accuracy'])\n",
    "InceptionV3_model.load_weights(\"/home/ubuntu/jupyter/Fish/Final_Project/inception_weights.h5\")"
   ]
  },
  {
   "cell_type": "code",
   "execution_count": 6,
   "metadata": {
    "collapsed": false
   },
   "outputs": [
    {
     "name": "stdout",
     "output_type": "stream",
     "text": [
      "0th augmentation for testing ...\n",
      "Found 1000 images belonging to 1 classes.\n",
      "Begin to predict for testing data ...\n"
     ]
    },
    {
     "name": "stderr",
     "output_type": "stream",
     "text": [
      "/usr/local/lib/python2.7/site-packages/ipykernel/__main__.py:3: DeprecationWarning: This function is deprecated. Please call randint(0, 100000 + 1) instead\n",
      "  app.launch_new_instance()\n"
     ]
    },
    {
     "name": "stdout",
     "output_type": "stream",
     "text": [
      "1th augmentation for testing ...\n",
      "Found 1000 images belonging to 1 classes.\n",
      "Begin to predict for testing data ...\n",
      "2th augmentation for testing ...\n",
      "Found 1000 images belonging to 1 classes.\n",
      "Begin to predict for testing data ...\n",
      "3th augmentation for testing ...\n",
      "Found 1000 images belonging to 1 classes.\n",
      "Begin to predict for testing data ...\n",
      "4th augmentation for testing ...\n",
      "Found 1000 images belonging to 1 classes.\n",
      "Begin to predict for testing data ...\n",
      "5th augmentation for testing ...\n",
      "Found 1000 images belonging to 1 classes.\n",
      "Begin to predict for testing data ...\n",
      "6th augmentation for testing ...\n",
      "Found 1000 images belonging to 1 classes.\n",
      "Begin to predict for testing data ...\n",
      "7th augmentation for testing ...\n",
      "Found 1000 images belonging to 1 classes.\n",
      "Begin to predict for testing data ...\n",
      "8th augmentation for testing ...\n",
      "Found 1000 images belonging to 1 classes.\n",
      "Begin to predict for testing data ...\n",
      "9th augmentation for testing ...\n",
      "Found 1000 images belonging to 1 classes.\n",
      "Begin to predict for testing data ...\n",
      "Begin to write submission file ..\n",
      "0 / 1000\n",
      "100 / 1000\n",
      "200 / 1000\n",
      "300 / 1000\n",
      "400 / 1000\n",
      "500 / 1000\n",
      "600 / 1000\n",
      "700 / 1000\n",
      "800 / 1000\n",
      "900 / 1000\n",
      "Submission file successfully generated!\n"
     ]
    }
   ],
   "source": [
    "for idx in range(10):\n",
    "    print('{}th augmentation for testing ...'.format(idx))\n",
    "    random_seed = np.random.random_integers(0, 100000)\n",
    "\n",
    "    test_generator = test_datagen.flow_from_directory(\n",
    "            test_data_dir,\n",
    "            target_size=(img_width, img_height),\n",
    "            batch_size=batch_size,\n",
    "            shuffle = False, # Important !!!\n",
    "            seed = random_seed,\n",
    "            classes = None,\n",
    "            class_mode = None)\n",
    "\n",
    "    test_image_list = test_generator.filenames\n",
    "    #print('image_list: {}'.format(test_image_list[:10]))\n",
    "    print('Begin to predict for testing data ...')\n",
    "    if idx == 0:\n",
    "        predictions = InceptionV3_model.predict_generator(test_generator, nbr_test_samples)\n",
    "    else:\n",
    "        predictions += InceptionV3_model.predict_generator(test_generator, nbr_test_samples)\n",
    "\n",
    "predictions /= nbr_augmentation\n",
    "\n",
    "print('Begin to write submission file ..')\n",
    "f_submit = open(os.path.join(root_path, 'submit.csv'), 'w')\n",
    "f_submit.write('image,ALB,BET,DOL,LAG,NoF,OTHER,SHARK,YFT\\n')\n",
    "for i, image_name in enumerate(test_image_list):\n",
    "    pred = ['%.6f' % p for p in predictions[i, :]]\n",
    "    if i % 100 == 0:\n",
    "        print('{} / {}'.format(i, nbr_test_samples))\n",
    "    f_submit.write('%s,%s\\n' % (os.path.basename(image_name), ','.join(pred)))\n",
    "\n",
    "f_submit.close()\n",
    "\n",
    "print('Submission file successfully generated!')"
   ]
  }
 ],
 "metadata": {
  "kernelspec": {
   "display_name": "Python 2",
   "language": "python",
   "name": "python2"
  },
  "language_info": {
   "codemirror_mode": {
    "name": "ipython",
    "version": 2
   },
   "file_extension": ".py",
   "mimetype": "text/x-python",
   "name": "python",
   "nbconvert_exporter": "python",
   "pygments_lexer": "ipython2",
   "version": "2.7.12"
  }
 },
 "nbformat": 4,
 "nbformat_minor": 1
}
